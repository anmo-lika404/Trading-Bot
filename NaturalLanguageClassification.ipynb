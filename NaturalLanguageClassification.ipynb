{
 "cells": [
  {
   "cell_type": "code",
   "execution_count": 1,
   "id": "presidential-guard",
   "metadata": {},
   "outputs": [],
   "source": [
    "\n",
    "import pandas as pd"
   ]
  },
  {
   "cell_type": "code",
   "execution_count": 2,
   "id": "intensive-puppy",
   "metadata": {},
   "outputs": [],
   "source": [
    "df = pd.read_csv('./financialNews.csv', encoding='latin-1')"
   ]
  },
  {
   "cell_type": "code",
   "execution_count": 3,
   "id": "technical-culture",
   "metadata": {},
   "outputs": [
    {
     "data": {
      "text/html": [
       "<div>\n",
       "<style scoped>\n",
       "    .dataframe tbody tr th:only-of-type {\n",
       "        vertical-align: middle;\n",
       "    }\n",
       "\n",
       "    .dataframe tbody tr th {\n",
       "        vertical-align: top;\n",
       "    }\n",
       "\n",
       "    .dataframe thead th {\n",
       "        text-align: right;\n",
       "    }\n",
       "</style>\n",
       "<table border=\"1\" class=\"dataframe\">\n",
       "  <thead>\n",
       "    <tr style=\"text-align: right;\">\n",
       "      <th></th>\n",
       "      <th>neutral</th>\n",
       "      <th>According to Gran , the company has no plans to move all production to Russia , although that is where the company is growing .</th>\n",
       "    </tr>\n",
       "  </thead>\n",
       "  <tbody>\n",
       "    <tr>\n",
       "      <th>0</th>\n",
       "      <td>neutral</td>\n",
       "      <td>Technopolis plans to develop in stages an area...</td>\n",
       "    </tr>\n",
       "    <tr>\n",
       "      <th>1</th>\n",
       "      <td>negative</td>\n",
       "      <td>The international electronic industry company ...</td>\n",
       "    </tr>\n",
       "    <tr>\n",
       "      <th>2</th>\n",
       "      <td>positive</td>\n",
       "      <td>With the new production plant the company woul...</td>\n",
       "    </tr>\n",
       "    <tr>\n",
       "      <th>3</th>\n",
       "      <td>positive</td>\n",
       "      <td>According to the company 's updated strategy f...</td>\n",
       "    </tr>\n",
       "    <tr>\n",
       "      <th>4</th>\n",
       "      <td>positive</td>\n",
       "      <td>FINANCING OF ASPOCOMP 'S GROWTH Aspocomp is ag...</td>\n",
       "    </tr>\n",
       "    <tr>\n",
       "      <th>...</th>\n",
       "      <td>...</td>\n",
       "      <td>...</td>\n",
       "    </tr>\n",
       "    <tr>\n",
       "      <th>4840</th>\n",
       "      <td>negative</td>\n",
       "      <td>LONDON MarketWatch -- Share prices ended lower...</td>\n",
       "    </tr>\n",
       "    <tr>\n",
       "      <th>4841</th>\n",
       "      <td>neutral</td>\n",
       "      <td>Rinkuskiai 's beer sales fell by 6.5 per cent ...</td>\n",
       "    </tr>\n",
       "    <tr>\n",
       "      <th>4842</th>\n",
       "      <td>negative</td>\n",
       "      <td>Operating profit fell to EUR 35.4 mn from EUR ...</td>\n",
       "    </tr>\n",
       "    <tr>\n",
       "      <th>4843</th>\n",
       "      <td>negative</td>\n",
       "      <td>Net sales of the Paper segment decreased to EU...</td>\n",
       "    </tr>\n",
       "    <tr>\n",
       "      <th>4844</th>\n",
       "      <td>negative</td>\n",
       "      <td>Sales in Finland decreased by 10.5 % in Januar...</td>\n",
       "    </tr>\n",
       "  </tbody>\n",
       "</table>\n",
       "<p>4845 rows × 2 columns</p>\n",
       "</div>"
      ],
      "text/plain": [
       "       neutral  \\\n",
       "0      neutral   \n",
       "1     negative   \n",
       "2     positive   \n",
       "3     positive   \n",
       "4     positive   \n",
       "...        ...   \n",
       "4840  negative   \n",
       "4841   neutral   \n",
       "4842  negative   \n",
       "4843  negative   \n",
       "4844  negative   \n",
       "\n",
       "     According to Gran , the company has no plans to move all production to Russia , although that is where the company is growing .  \n",
       "0     Technopolis plans to develop in stages an area...                                                                               \n",
       "1     The international electronic industry company ...                                                                               \n",
       "2     With the new production plant the company woul...                                                                               \n",
       "3     According to the company 's updated strategy f...                                                                               \n",
       "4     FINANCING OF ASPOCOMP 'S GROWTH Aspocomp is ag...                                                                               \n",
       "...                                                 ...                                                                               \n",
       "4840  LONDON MarketWatch -- Share prices ended lower...                                                                               \n",
       "4841  Rinkuskiai 's beer sales fell by 6.5 per cent ...                                                                               \n",
       "4842  Operating profit fell to EUR 35.4 mn from EUR ...                                                                               \n",
       "4843  Net sales of the Paper segment decreased to EU...                                                                               \n",
       "4844  Sales in Finland decreased by 10.5 % in Januar...                                                                               \n",
       "\n",
       "[4845 rows x 2 columns]"
      ]
     },
     "execution_count": 3,
     "metadata": {},
     "output_type": "execute_result"
    }
   ],
   "source": [
    "df"
   ]
  },
  {
   "cell_type": "code",
   "execution_count": 4,
   "id": "hourly-framework",
   "metadata": {},
   "outputs": [],
   "source": [
    "df.columns = ['Sentiment', 'SentimentText']"
   ]
  },
  {
   "cell_type": "code",
   "execution_count": 5,
   "id": "gothic-interpretation",
   "metadata": {},
   "outputs": [
    {
     "data": {
      "text/html": [
       "<div>\n",
       "<style scoped>\n",
       "    .dataframe tbody tr th:only-of-type {\n",
       "        vertical-align: middle;\n",
       "    }\n",
       "\n",
       "    .dataframe tbody tr th {\n",
       "        vertical-align: top;\n",
       "    }\n",
       "\n",
       "    .dataframe thead th {\n",
       "        text-align: right;\n",
       "    }\n",
       "</style>\n",
       "<table border=\"1\" class=\"dataframe\">\n",
       "  <thead>\n",
       "    <tr style=\"text-align: right;\">\n",
       "      <th></th>\n",
       "      <th>Sentiment</th>\n",
       "      <th>SentimentText</th>\n",
       "    </tr>\n",
       "  </thead>\n",
       "  <tbody>\n",
       "    <tr>\n",
       "      <th>0</th>\n",
       "      <td>neutral</td>\n",
       "      <td>Technopolis plans to develop in stages an area...</td>\n",
       "    </tr>\n",
       "    <tr>\n",
       "      <th>1</th>\n",
       "      <td>negative</td>\n",
       "      <td>The international electronic industry company ...</td>\n",
       "    </tr>\n",
       "    <tr>\n",
       "      <th>2</th>\n",
       "      <td>positive</td>\n",
       "      <td>With the new production plant the company woul...</td>\n",
       "    </tr>\n",
       "    <tr>\n",
       "      <th>3</th>\n",
       "      <td>positive</td>\n",
       "      <td>According to the company 's updated strategy f...</td>\n",
       "    </tr>\n",
       "    <tr>\n",
       "      <th>4</th>\n",
       "      <td>positive</td>\n",
       "      <td>FINANCING OF ASPOCOMP 'S GROWTH Aspocomp is ag...</td>\n",
       "    </tr>\n",
       "    <tr>\n",
       "      <th>...</th>\n",
       "      <td>...</td>\n",
       "      <td>...</td>\n",
       "    </tr>\n",
       "    <tr>\n",
       "      <th>4840</th>\n",
       "      <td>negative</td>\n",
       "      <td>LONDON MarketWatch -- Share prices ended lower...</td>\n",
       "    </tr>\n",
       "    <tr>\n",
       "      <th>4841</th>\n",
       "      <td>neutral</td>\n",
       "      <td>Rinkuskiai 's beer sales fell by 6.5 per cent ...</td>\n",
       "    </tr>\n",
       "    <tr>\n",
       "      <th>4842</th>\n",
       "      <td>negative</td>\n",
       "      <td>Operating profit fell to EUR 35.4 mn from EUR ...</td>\n",
       "    </tr>\n",
       "    <tr>\n",
       "      <th>4843</th>\n",
       "      <td>negative</td>\n",
       "      <td>Net sales of the Paper segment decreased to EU...</td>\n",
       "    </tr>\n",
       "    <tr>\n",
       "      <th>4844</th>\n",
       "      <td>negative</td>\n",
       "      <td>Sales in Finland decreased by 10.5 % in Januar...</td>\n",
       "    </tr>\n",
       "  </tbody>\n",
       "</table>\n",
       "<p>4845 rows × 2 columns</p>\n",
       "</div>"
      ],
      "text/plain": [
       "     Sentiment                                      SentimentText\n",
       "0      neutral  Technopolis plans to develop in stages an area...\n",
       "1     negative  The international electronic industry company ...\n",
       "2     positive  With the new production plant the company woul...\n",
       "3     positive  According to the company 's updated strategy f...\n",
       "4     positive  FINANCING OF ASPOCOMP 'S GROWTH Aspocomp is ag...\n",
       "...        ...                                                ...\n",
       "4840  negative  LONDON MarketWatch -- Share prices ended lower...\n",
       "4841   neutral  Rinkuskiai 's beer sales fell by 6.5 per cent ...\n",
       "4842  negative  Operating profit fell to EUR 35.4 mn from EUR ...\n",
       "4843  negative  Net sales of the Paper segment decreased to EU...\n",
       "4844  negative  Sales in Finland decreased by 10.5 % in Januar...\n",
       "\n",
       "[4845 rows x 2 columns]"
      ]
     },
     "execution_count": 5,
     "metadata": {},
     "output_type": "execute_result"
    }
   ],
   "source": [
    "df"
   ]
  },
  {
   "cell_type": "code",
   "execution_count": 6,
   "id": "ruled-penny",
   "metadata": {},
   "outputs": [],
   "source": [
    "mapper = {'negative': 0,\n",
    "         'neutral': 1,\n",
    "         'positive': 2,}\n",
    "df.Sentiment = df.Sentiment.map(mapper)"
   ]
  },
  {
   "cell_type": "code",
   "execution_count": 7,
   "id": "psychological-clothing",
   "metadata": {},
   "outputs": [
    {
     "data": {
      "text/html": [
       "<div>\n",
       "<style scoped>\n",
       "    .dataframe tbody tr th:only-of-type {\n",
       "        vertical-align: middle;\n",
       "    }\n",
       "\n",
       "    .dataframe tbody tr th {\n",
       "        vertical-align: top;\n",
       "    }\n",
       "\n",
       "    .dataframe thead th {\n",
       "        text-align: right;\n",
       "    }\n",
       "</style>\n",
       "<table border=\"1\" class=\"dataframe\">\n",
       "  <thead>\n",
       "    <tr style=\"text-align: right;\">\n",
       "      <th></th>\n",
       "      <th>Sentiment</th>\n",
       "      <th>SentimentText</th>\n",
       "    </tr>\n",
       "  </thead>\n",
       "  <tbody>\n",
       "    <tr>\n",
       "      <th>0</th>\n",
       "      <td>1</td>\n",
       "      <td>Technopolis plans to develop in stages an area...</td>\n",
       "    </tr>\n",
       "    <tr>\n",
       "      <th>1</th>\n",
       "      <td>0</td>\n",
       "      <td>The international electronic industry company ...</td>\n",
       "    </tr>\n",
       "    <tr>\n",
       "      <th>2</th>\n",
       "      <td>2</td>\n",
       "      <td>With the new production plant the company woul...</td>\n",
       "    </tr>\n",
       "    <tr>\n",
       "      <th>3</th>\n",
       "      <td>2</td>\n",
       "      <td>According to the company 's updated strategy f...</td>\n",
       "    </tr>\n",
       "    <tr>\n",
       "      <th>4</th>\n",
       "      <td>2</td>\n",
       "      <td>FINANCING OF ASPOCOMP 'S GROWTH Aspocomp is ag...</td>\n",
       "    </tr>\n",
       "    <tr>\n",
       "      <th>...</th>\n",
       "      <td>...</td>\n",
       "      <td>...</td>\n",
       "    </tr>\n",
       "    <tr>\n",
       "      <th>4840</th>\n",
       "      <td>0</td>\n",
       "      <td>LONDON MarketWatch -- Share prices ended lower...</td>\n",
       "    </tr>\n",
       "    <tr>\n",
       "      <th>4841</th>\n",
       "      <td>1</td>\n",
       "      <td>Rinkuskiai 's beer sales fell by 6.5 per cent ...</td>\n",
       "    </tr>\n",
       "    <tr>\n",
       "      <th>4842</th>\n",
       "      <td>0</td>\n",
       "      <td>Operating profit fell to EUR 35.4 mn from EUR ...</td>\n",
       "    </tr>\n",
       "    <tr>\n",
       "      <th>4843</th>\n",
       "      <td>0</td>\n",
       "      <td>Net sales of the Paper segment decreased to EU...</td>\n",
       "    </tr>\n",
       "    <tr>\n",
       "      <th>4844</th>\n",
       "      <td>0</td>\n",
       "      <td>Sales in Finland decreased by 10.5 % in Januar...</td>\n",
       "    </tr>\n",
       "  </tbody>\n",
       "</table>\n",
       "<p>4845 rows × 2 columns</p>\n",
       "</div>"
      ],
      "text/plain": [
       "      Sentiment                                      SentimentText\n",
       "0             1  Technopolis plans to develop in stages an area...\n",
       "1             0  The international electronic industry company ...\n",
       "2             2  With the new production plant the company woul...\n",
       "3             2  According to the company 's updated strategy f...\n",
       "4             2  FINANCING OF ASPOCOMP 'S GROWTH Aspocomp is ag...\n",
       "...         ...                                                ...\n",
       "4840          0  LONDON MarketWatch -- Share prices ended lower...\n",
       "4841          1  Rinkuskiai 's beer sales fell by 6.5 per cent ...\n",
       "4842          0  Operating profit fell to EUR 35.4 mn from EUR ...\n",
       "4843          0  Net sales of the Paper segment decreased to EU...\n",
       "4844          0  Sales in Finland decreased by 10.5 % in Januar...\n",
       "\n",
       "[4845 rows x 2 columns]"
      ]
     },
     "execution_count": 7,
     "metadata": {},
     "output_type": "execute_result"
    }
   ],
   "source": [
    "df"
   ]
  },
  {
   "cell_type": "code",
   "execution_count": 8,
   "id": "auburn-ethics",
   "metadata": {},
   "outputs": [
    {
     "data": {
      "text/plain": [
       "1    2878\n",
       "2    1363\n",
       "0     604\n",
       "Name: Sentiment, dtype: int64"
      ]
     },
     "execution_count": 8,
     "metadata": {},
     "output_type": "execute_result"
    }
   ],
   "source": [
    "df.Sentiment.value_counts()"
   ]
  },
  {
   "cell_type": "code",
   "execution_count": 9,
   "id": "advised-appraisal",
   "metadata": {},
   "outputs": [
    {
     "name": "stderr",
     "output_type": "stream",
     "text": [
      "Using TensorFlow backend.\n"
     ]
    }
   ],
   "source": [
    "from sklearn.model_selection import train_test_split\n",
    "import numpy as np\n",
    "import keras\n",
    "\n",
    "train, valid = train_test_split(df, test_size=0.2)"
   ]
  },
  {
   "cell_type": "code",
   "execution_count": 10,
   "id": "controlling-monte",
   "metadata": {},
   "outputs": [],
   "source": [
    "train_text = np.array(train['SentimentText'].tolist().copy())\n",
    "labels = keras.utils.to_categorical(train['Sentiment'].astype('int64'))"
   ]
  },
  {
   "cell_type": "code",
   "execution_count": 11,
   "id": "activated-mauritius",
   "metadata": {},
   "outputs": [],
   "source": [
    "valid_text = np.array(valid['SentimentText'].tolist().copy())\n",
    "labels_valid = keras.utils.to_categorical(valid['Sentiment'].astype('int64'))"
   ]
  },
  {
   "cell_type": "code",
   "execution_count": 12,
   "id": "vocal-headset",
   "metadata": {},
   "outputs": [],
   "source": [
    "from tensorflow.keras.preprocessing.text import Tokenizer\n",
    "from tensorflow.keras.preprocessing.sequence import pad_sequences\n",
    "\n",
    "#Set up variables for preprocessing and learning\n",
    "vocab_size = 1000\n",
    "embedding_dim = 16\n",
    "max_length = 142\n",
    "trunc_type='post'\n",
    "padding_type='post'\n",
    "oov_token = '<OOV>'\n",
    "\n",
    "tokenizer = Tokenizer(num_words=vocab_size, oov_token=oov_token)\n",
    "tokenizer.fit_on_texts(train_text)\n",
    "\n",
    "# tokenizer.word_index\n",
    "\n",
    "sequences = tokenizer.texts_to_sequences(train_text)\n",
    "padded = pad_sequences(sequences, maxlen=max_length, padding=padding_type, truncating=trunc_type)\n",
    "\n",
    "testing_sequences = tokenizer.texts_to_sequences(valid_text)\n",
    "testing_padded = pad_sequences(testing_sequences, maxlen=max_length, padding=padding_type, truncating=trunc_type)\n"
   ]
  },
  {
   "cell_type": "code",
   "execution_count": 13,
   "id": "annoying-colony",
   "metadata": {},
   "outputs": [],
   "source": [
    "import pickle\n",
    "\n",
    "with open('tokenizer.pickle', 'wb') as handle:\n",
    "    pickle.dump(tokenizer, handle, protocol=pickle.HIGHEST_PROTOCOL)"
   ]
  },
  {
   "cell_type": "code",
   "execution_count": 14,
   "id": "adaptive-robert",
   "metadata": {},
   "outputs": [
    {
     "name": "stdout",
     "output_type": "stream",
     "text": [
      "Model: \"sequential\"\n",
      "_________________________________________________________________\n",
      "Layer (type)                 Output Shape              Param #   \n",
      "=================================================================\n",
      "embedding (Embedding)        (None, 142, 16)           16000     \n",
      "_________________________________________________________________\n",
      "global_average_pooling1d (Gl (None, 16)                0         \n",
      "_________________________________________________________________\n",
      "dense (Dense)                (None, 16)                272       \n",
      "_________________________________________________________________\n",
      "dense_1 (Dense)              (None, 3)                 51        \n",
      "=================================================================\n",
      "Total params: 16,323\n",
      "Trainable params: 16,323\n",
      "Non-trainable params: 0\n",
      "_________________________________________________________________\n"
     ]
    }
   ],
   "source": [
    "import tensorflow as tf\n",
    "\n",
    "model = tf.keras.Sequential([\n",
    "    tf.keras.layers.Embedding(vocab_size, embedding_dim, input_length=max_length),\n",
    "    tf.keras.layers.GlobalAveragePooling1D(),\n",
    "    tf.keras.layers.Dense(16, activation='relu'),\n",
    "    tf.keras.layers.Dense(3, activation='softmax')\n",
    "])\n",
    "\n",
    "model.compile(loss='categorical_crossentropy', optimizer='adam', metrics=['accuracy'])\n",
    "model.summary()"
   ]
  },
  {
   "cell_type": "code",
   "execution_count": null,
   "id": "solved-father",
   "metadata": {},
   "outputs": [
    {
     "name": "stdout",
     "output_type": "stream",
     "text": [
      "Epoch 1/30\n",
      "122/122 [==============================] - 1s 6ms/step - loss: 1.0400 - accuracy: 0.5558 - val_loss: 0.9357 - val_accuracy: 0.5810\n",
      "Epoch 2/30\n",
      "122/122 [==============================] - 0s 2ms/step - loss: 0.9165 - accuracy: 0.5950 - val_loss: 0.9271 - val_accuracy: 0.5810\n",
      "Epoch 3/30\n",
      "122/122 [==============================] - 0s 2ms/step - loss: 0.8961 - accuracy: 0.6063 - val_loss: 0.9162 - val_accuracy: 0.5810\n",
      "Epoch 4/30\n",
      "122/122 [==============================] - 0s 2ms/step - loss: 0.8996 - accuracy: 0.5859 - val_loss: 0.8887 - val_accuracy: 0.5831\n",
      "Epoch 5/30\n",
      "122/122 [==============================] - 0s 2ms/step - loss: 0.8662 - accuracy: 0.6012 - val_loss: 0.8457 - val_accuracy: 0.6326\n",
      "Epoch 6/30\n",
      "122/122 [==============================] - 0s 2ms/step - loss: 0.8162 - accuracy: 0.6304 - val_loss: 0.8066 - val_accuracy: 0.6512\n",
      "Epoch 7/30\n",
      "122/122 [==============================] - 0s 2ms/step - loss: 0.7566 - accuracy: 0.6754 - val_loss: 0.7893 - val_accuracy: 0.6677\n",
      "Epoch 8/30\n",
      "122/122 [==============================] - 0s 2ms/step - loss: 0.7352 - accuracy: 0.6803 - val_loss: 0.7746 - val_accuracy: 0.6729\n",
      "Epoch 9/30\n",
      "122/122 [==============================] - 0s 2ms/step - loss: 0.7269 - accuracy: 0.6726 - val_loss: 0.7642 - val_accuracy: 0.6708\n",
      "Epoch 10/30\n",
      "122/122 [==============================] - 0s 2ms/step - loss: 0.7047 - accuracy: 0.6847 - val_loss: 0.7501 - val_accuracy: 0.6801\n",
      "Epoch 11/30\n",
      "122/122 [==============================] - 0s 2ms/step - loss: 0.6758 - accuracy: 0.7006 - val_loss: 0.7598 - val_accuracy: 0.6925\n",
      "Epoch 12/30\n",
      "122/122 [==============================] - 0s 2ms/step - loss: 0.6794 - accuracy: 0.6990 - val_loss: 0.7317 - val_accuracy: 0.6966\n",
      "Epoch 13/30\n",
      "122/122 [==============================] - 0s 2ms/step - loss: 0.6469 - accuracy: 0.7160 - val_loss: 0.7241 - val_accuracy: 0.7059\n",
      "Epoch 14/30\n",
      "122/122 [==============================] - 0s 2ms/step - loss: 0.6351 - accuracy: 0.7223 - val_loss: 0.7185 - val_accuracy: 0.7059\n",
      "Epoch 15/30\n",
      "122/122 [==============================] - 0s 2ms/step - loss: 0.6251 - accuracy: 0.7259 - val_loss: 0.7209 - val_accuracy: 0.7007\n",
      "Epoch 16/30\n",
      " 25/122 [=====>........................] - ETA: 0s - loss: 0.5777 - accuracy: 0.7506"
     ]
    }
   ],
   "source": [
    "num_epochs = 30\n",
    "history = model.fit(padded, labels, epochs=num_epochs, validation_data=(testing_padded, labels_valid))"
   ]
  },
  {
   "cell_type": "code",
   "execution_count": 16,
   "id": "confused-burton",
   "metadata": {},
   "outputs": [
    {
     "name": "stdout",
     "output_type": "stream",
     "text": [
      "['TSLA will compound by 10% over the next 10 years'] : Neutral\n"
     ]
    }
   ],
   "source": [
    "from tensorflow.keras.preprocessing.text import Tokenizer\n",
    "from tensorflow.keras.preprocessing.sequence import pad_sequences\n",
    "import numpy as np\n",
    "\n",
    "#Set up variables for preprocessing and learning\n",
    "vocab_size = 1000\n",
    "embedding_dim = 16\n",
    "max_length = 142\n",
    "trunc_type='post'\n",
    "padding_type='post'\n",
    "oov_token = '<OOV>'\n",
    "\n",
    "phrase = ['TSLA will compound by 10% over the next 10 years']\n",
    "\n",
    "testing_sequences = tokenizer.texts_to_sequences(phrase)\n",
    "testing_padded = pad_sequences(testing_sequences, maxlen=max_length,\n",
    "                              padding=padding_type,truncating=trunc_type)\n",
    "\n",
    "pred = model.predict(testing_padded)\n",
    "classes = np.argmax(pred, axis=-1)\n",
    "dict_sentiment = {0:'Negative', 1:'Neutral', 2: 'Positive'}\n",
    "print(f'{phrase} : {dict_sentiment[int(classes)]}')"
   ]
  },
  {
   "cell_type": "code",
   "execution_count": 17,
   "id": "accessory-topic",
   "metadata": {},
   "outputs": [],
   "source": [
    "#Save Model\n",
    "\n",
    "model.save('model1.h5')"
   ]
  },
  {
   "cell_type": "code",
   "execution_count": 18,
   "id": "changing-instrumentation",
   "metadata": {},
   "outputs": [],
   "source": [
    "import tensorflow as tf\n",
    "import pickle\n",
    "model = tf.keras.models.load_model('model1.h5')\n",
    "\n",
    "#Load tokenizer\n",
    "with open('tokenizer.pickle', 'rb') as handle:\n",
    "    tokenizer = pickle.load(handle)"
   ]
  },
  {
   "cell_type": "code",
   "execution_count": null,
   "id": "distant-attachment",
   "metadata": {},
   "outputs": [],
   "source": []
  }
 ],
 "metadata": {
  "kernelspec": {
   "display_name": "Python 3",
   "language": "python",
   "name": "python3"
  },
  "language_info": {
   "codemirror_mode": {
    "name": "ipython",
    "version": 3
   },
   "file_extension": ".py",
   "mimetype": "text/x-python",
   "name": "python",
   "nbconvert_exporter": "python",
   "pygments_lexer": "ipython3",
   "version": "3.8.8"
  }
 },
 "nbformat": 4,
 "nbformat_minor": 5
}
