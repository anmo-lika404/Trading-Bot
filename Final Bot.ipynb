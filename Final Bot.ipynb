{
 "cells": [
  {
   "cell_type": "code",
   "execution_count": 1,
   "id": "50cc5bb4",
   "metadata": {},
   "outputs": [],
   "source": [
    "#Import Required libraries\n",
    "from urllib.request import urlopen, Request\n",
    "from bs4 import BeautifulSoup\n",
    "import pandas as pd\n",
    "#Import Dependencies for sentiment analysis using our neural network\n",
    "import tensorflow as tf\n",
    "import numpy\n",
    "import pickle\n",
    "from tensorflow.keras.preprocessing.text import Tokenizer\n",
    "from tensorflow.keras.preprocessing.sequence import pad_sequences\n",
    "import numpy as np\n",
    "import alpaca_trade_api as tradeapi"
   ]
  },
  {
   "cell_type": "code",
   "execution_count": 2,
   "id": "5fb8ccab",
   "metadata": {},
   "outputs": [],
   "source": [
    "finviz_url = \"https://finviz.com/quote.ashx?t=\"\n",
    "ticker = \"TSLA\"\n",
    "url = finviz_url + ticker"
   ]
  },
  {
   "cell_type": "code",
   "execution_count": 4,
   "id": "13df85c4",
   "metadata": {},
   "outputs": [],
   "source": [
    "req = Request(url=url, headers={'user-agent': 'my-app'})\n",
    "response = urlopen(req)\n",
    "\n",
    "news_table = {}\n",
    "html = BeautifulSoup(response)\n",
    "news_table = html.find(id='news-table')\n",
    "# news_table\n",
    "\n",
    "dataRows = news_table.findAll('tr')\n",
    "\n"
   ]
  },
  {
   "cell_type": "code",
   "execution_count": 5,
   "id": "ac7aca06",
   "metadata": {},
   "outputs": [],
   "source": [
    "df = pd.DataFrame(columns=['News_Title', 'Time'])\n",
    "for i, table_row in enumerate(dataRows):\n",
    "    a_text = table_row.a.text\n",
    "    td_text = table_row.td.text\n",
    "    \n",
    "    df = df.append({'News_Title': a_text, 'Time': td_text}, ignore_index=True)\n",
    "\n"
   ]
  },
  {
   "cell_type": "code",
   "execution_count": 6,
   "id": "79bf1aa9",
   "metadata": {},
   "outputs": [],
   "source": [
    "with open('./tokenizer.pickle', 'rb') as handle:\n",
    "    tokenizer = pickle.load(handle)\n",
    "model = tf.keras.models.load_model('./model1.h5')"
   ]
  },
  {
   "cell_type": "code",
   "execution_count": 7,
   "id": "2224b905",
   "metadata": {},
   "outputs": [],
   "source": [
    "oov_tok = '<OOV>'\n",
    "trunc_type = 'post'\n",
    "padding_type='post'\n",
    "vocab_size =1000\n",
    "max_length = 142\n",
    "\n",
    "def preprocessText(text):\n",
    "    sequences = tokenizer.texts_to_sequences(text)\n",
    "    padded = pad_sequences(sequences, maxlen=max_length, padding=padding_type,\n",
    "                          truncating=trunc_type)\n",
    "    return padded\n",
    "\n",
    "prep = preprocessText(df.News_Title)\n",
    "prep = model.predict(prep)\n",
    "df['sent'] = np.argmax(prep, axis=-1)\n",
    "\n"
   ]
  },
  {
   "cell_type": "code",
   "execution_count": 9,
   "id": "86a5511d",
   "metadata": {},
   "outputs": [],
   "source": [
    "api = tradeapi.REST(\"PKAFHJ9U5CUF1FD3QDS7\", \"QeBhKnBE7nbpJZZmzeeJ347JqiUQ0RwyMaqxlIxE\", \"https://paper-api.alpaca.markets\")\n",
    "account = api.get_account()\n",
    "# print(account)"
   ]
  },
  {
   "cell_type": "code",
   "execution_count": 13,
   "id": "f2aaaf3a",
   "metadata": {},
   "outputs": [
    {
     "name": "stdout",
     "output_type": "stream",
     "text": [
      "Neutral Sentiment, Nothing to do!\n"
     ]
    }
   ],
   "source": [
    "modeSentiment = df.sent.mode().iloc[0]\n",
    "# print(modeSentiment)\n",
    "\n",
    "if modeSentiment == 1:\n",
    "    print(\"Neutral Sentiment, Nothing to do!\")\n",
    "elif modeSentiment == 0:\n",
    "    api.submit_order(\n",
    "        symbol=ticker,\n",
    "        qty=1,\n",
    "        side='sell',\n",
    "        type='market',\n",
    "        time_in_force='gtc'\n",
    "    )\n",
    "    print(\"SELL\")\n",
    "elif modeSentiment == 2:\n",
    "    api.submit_order(\n",
    "        symbol=ticker,\n",
    "        qty=1,\n",
    "        side='buy',\n",
    "        type='market',\n",
    "        time_in_force='gtc'\n",
    "    )\n",
    "    print(\"BUY\")"
   ]
  },
  {
   "cell_type": "code",
   "execution_count": null,
   "id": "a6169b21",
   "metadata": {},
   "outputs": [],
   "source": [
    "# you can create your own data set to see changes."
   ]
  }
 ],
 "metadata": {
  "kernelspec": {
   "display_name": "Python 3",
   "language": "python",
   "name": "python3"
  },
  "language_info": {
   "codemirror_mode": {
    "name": "ipython",
    "version": 3
   },
   "file_extension": ".py",
   "mimetype": "text/x-python",
   "name": "python",
   "nbconvert_exporter": "python",
   "pygments_lexer": "ipython3",
   "version": "3.8.8"
  }
 },
 "nbformat": 4,
 "nbformat_minor": 5
}
